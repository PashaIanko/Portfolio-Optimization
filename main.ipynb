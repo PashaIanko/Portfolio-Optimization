{
  "cells": [
    {
      "cell_type": "markdown",
      "metadata": {},
      "source": [
        "# First try"
      ]
    },
    {
      "cell_type": "code",
      "execution_count": 3,
      "metadata": {},
      "outputs": [],
      "source": [
        "import numpy as np\n",
        "import matplotlib.pyplot as plt"
      ]
    },
    {
      "cell_type": "code",
      "execution_count": 4,
      "metadata": {},
      "outputs": [],
      "source": [
        "n_assets = 10  # dimension of x-vector\n",
        "n_periods = 13  # 1 ... T, T - n_periods"
      ]
    },
    {
      "cell_type": "code",
      "execution_count": 5,
      "metadata": {},
      "outputs": [],
      "source": [
        "mean = 0  # like in paper\n",
        "var = 0.1  # like in paper\n",
        "\n",
        "return_matrix = np.ones((n_periods, n_assets)) + np.random.normal(loc = mean, scale = var, size = (n_periods, n_assets))\n",
        "assert(return_matrix.shape == (n_periods, n_assets))\n",
        "assert(len(return_matrix[:, 0]) == n_periods)\n",
        "assert(len(return_matrix[0, :]) == n_assets)"
      ]
    },
    {
      "cell_type": "code",
      "execution_count": 6,
      "metadata": {},
      "outputs": [
        {
          "data": {
            "image/png": "[encoded data removed]",
            "text/plain": [
              "<Figure size 432x288 with 1 Axes>"
            ]
          },
          "metadata": {
            "needs_background": "light"
          },
          "output_type": "display_data"
        }
      ],
      "source": [
        "assets = [0, 1, 2]\n",
        "for ass in assets:\n",
        "    plt.plot(return_matrix[:, ass], marker = 'o')\n",
        "plt.grid()"
      ]
    },
    {
      "cell_type": "code",
      "execution_count": 7,
      "metadata": {},
      "outputs": [
        {
          "data": {
            "text/plain": [
              "array([0., 0., 0., 1., 0., 0., 0., 0., 0., 0.])"
            ]
          },
          "execution_count": 7,
          "metadata": {},
          "output_type": "execute_result"
        }
      ],
      "source": [
        "a = np.zeros(10)\n",
        "a[3] = 1\n",
        "a"
      ]
    },
    {
      "cell_type": "code",
      "execution_count": 8,
      "metadata": {},
      "outputs": [
        {
          "name": "stdout",
          "output_type": "stream",
          "text": [
            "51\n"
          ]
        }
      ],
      "source": [
        "counter = 0\n",
        "for k in range(100):\n",
        "    counter += 1\n",
        "    if k == 50:\n",
        "        break\n",
        "print(counter)"
      ]
    },
    {
      "cell_type": "code",
      "execution_count": 9,
      "metadata": {},
      "outputs": [
        {
          "data": {
            "text/plain": [
              "10"
            ]
          },
          "execution_count": 9,
          "metadata": {},
          "output_type": "execute_result"
        }
      ],
      "source": [
        "x = np.zeros(n_assets)\n",
        "x.shape[0]"
      ]
    },
    {
      "cell_type": "code",
      "execution_count": 11,
      "metadata": {},
      "outputs": [
        {
          "data": {
            "text/plain": [
              "2"
            ]
          },
          "execution_count": 11,
          "metadata": {},
          "output_type": "execute_result"
        }
      ],
      "source": [
        "\n",
        "arr = np.array([5, 4, 2, 3, 3, 3])\n",
        "np.argmin(arr)"
      ]
    },
    {
      "cell_type": "code",
      "execution_count": 14,
      "metadata": {},
      "outputs": [],
      "source": [
        "def compute_gradient_component(x, return_matrix, index):\n",
        "    n_periods = return_matrix.shape[0]\n",
        "    n_assets = return_matrix.shape[1]\n",
        "\n",
        "    # derive the derivative manually -->\n",
        "    # here we calculate the formula for the derivative\n",
        "    # with respect to component x[index]\n",
        "    res = 0\n",
        "    for i in range(n_periods):\n",
        "        r_i = return_matrix[i]\n",
        "        \n",
        "        assert len(r_i) == len(x)\n",
        "        assert len(r_i) == n_assets\n",
        "\n",
        "        dot_prod = np.dot(r_i, x)\n",
        "        eps_emergency = 0\n",
        "\n",
        "        if dot_prod == 0:\n",
        "            print(f'Zero dot product шт compute_gradient_component!!!')\n",
        "            eps_emergency = 0.001 \n",
        "\n",
        "        res += (1 / (np.dot(r_i, x) + eps_emergency)) * r_i[index]\n",
        "    return res\n",
        "\n",
        "\n",
        "    \n",
        "\n",
        "def compute_gradient(x, return_matrix):\n",
        "    x_size = x.shape[0]\n",
        "    res = []\n",
        "    # For each component of vector \"x\"\n",
        "    # calculate gradient\n",
        "    for i in range(x_size):\n",
        "        res.append(compute_gradient_component(x, return_matrix, i))\n",
        "    return np.array(res)\n",
        "    \n",
        "\n",
        "def satisfies_stopping_condition(x):\n",
        "    return False  # Dont know how to implement yet\n",
        "\n",
        "\n",
        "def calculate_objective(x, return_matrix):\n",
        "    n_periods = return_matrix.shape[0]\n",
        "    n_assets = return_matrix.shape[1]\n",
        "\n",
        "    ln_dot_products = []\n",
        "    for i in range(n_periods):\n",
        "        r_i = return_matrix[i]\n",
        "        assert(len(r_i) == len(x))\n",
        "\n",
        "        dot_product = np.dot(r_i, x)\n",
        "        eps_emergency = 0\n",
        "        if dot_product == 0:\n",
        "            print(f'Dot product in objective func == 0! (log() bad!)')\n",
        "            eps_emergency = 0.001\n",
        "        ln_dot_products.append(np.log(np.dot(r_i, x) + eps_emergency))\n",
        "    return -np.sum(ln_dot_products)\n",
        "    \n",
        "\n",
        "\n",
        "def frank_wolfe(return_matrix, n_iterations):\n",
        "    # n_periods = return_matrix.shape[0]\n",
        "    n_assets = return_matrix.shape[1]\n",
        "    \n",
        "    \n",
        "    # Our solution is a vector x, |x| = n_assets - \n",
        "    # investment distribution\n",
        "    # We pick initial approximation for x - any\n",
        "    # simplex vertex\n",
        "    vertex_to_start = 1\n",
        "    assert vertex_to_start < n_assets, print('Pick another initial approximation')\n",
        "    x = np.zeros(n_assets)\n",
        "    x[vertex_to_start] = 1  # initial approximation - all money to one asset\n",
        "\n",
        "    objective_values = [calculate_objective(x, return_matrix)]  # objective function\n",
        "\n",
        "    for k in range(1, n_iterations):\n",
        "        # Compute gradient of objective function\n",
        "        grad_vector = compute_gradient(x, return_matrix)\n",
        "        assert(grad_vector.shape[0] == len(x))\n",
        "\n",
        "        # FW for simplex problem --> minimum of linear\n",
        "        # function will be reached on the vertex of the simplex\n",
        "        # Here we search for index with minimum gradient\n",
        "        # component\n",
        "        min_index = np.argmin(grad_vector)\n",
        "        \n",
        "        # x_k^ = e_ik from lectures - direction where to go\n",
        "        xk_hat = np.zeros(n_assets)\n",
        "        assert(len(xk_hat) == len(grad_vector))\n",
        "        xk_hat[min_index] = 1\n",
        "\n",
        "        if satisfies_stopping_condition(xk_hat):\n",
        "            print(f'Satisfied exiting condition')\n",
        "            break\n",
        "        else:\n",
        "            learning_rate = 2 / (k + 1)\n",
        "            x = x + learning_rate * (xk_hat - x)\n",
        "            objective_values.append(calculate_objective(x, return_matrix))  # objective function\n",
        "\n",
        "    print(f'Reached limit of iterations')\n",
        "    return x, objective_values"
      ]
    },
    {
      "cell_type": "code",
      "execution_count": 19,
      "metadata": {},
      "outputs": [
        {
          "name": "stdout",
          "output_type": "stream",
          "text": [
            "Reached limit of iterations\n"
          ]
        }
      ],
      "source": [
        "investment_distribution, objective_func = frank_wolfe(\n",
        "    return_matrix = return_matrix,\n",
        "    n_iterations = 1000\n",
        ")"
      ]
    },
    {
      "cell_type": "code",
      "execution_count": 21,
      "metadata": {},
      "outputs": [
        {
          "data": {
            "text/plain": [
              "array([0., 0., 0., 0., 0., 0., 1., 0., 0., 0.])"
            ]
          },
          "execution_count": 21,
          "metadata": {},
          "output_type": "execute_result"
        }
      ],
      "source": [
        "investment_distribution"
      ]
    },
    {
      "cell_type": "code",
      "execution_count": 18,
      "metadata": {},
      "outputs": [
        {
          "data": {
            "text/plain": [
              "[0.15987095134395568,\n",
              " 0.9111508473939272,\n",
              " 0.9111508473939272,\n",
              " 0.9111508473939272,\n",
              " 0.9111508473939272,\n",
              " 0.9111508473939272,\n",
              " 0.9111508473939272,\n",
              " 0.9111508473939272,\n",
              " 0.9111508473939272,\n",
              " 0.9111508473939272,\n",
              " 0.9111508473939272,\n",
              " 0.9111508473939272,\n",
              " 0.9111508473939272,\n",
              " 0.9111508473939272,\n",
              " 0.9111508473939272,\n",
              " 0.9111508473939272,\n",
              " 0.9111508473939272,\n",
              " 0.9111508473939272,\n",
              " 0.9111508473939272,\n",
              " 0.9111508473939272,\n",
              " 0.9111508473939272,\n",
              " 0.9111508473939272,\n",
              " 0.9111508473939272,\n",
              " 0.9111508473939272,\n",
              " 0.9111508473939272,\n",
              " 0.9111508473939272,\n",
              " 0.9111508473939272,\n",
              " 0.9111508473939272,\n",
              " 0.9111508473939272,\n",
              " 0.9111508473939272,\n",
              " 0.9111508473939272,\n",
              " 0.9111508473939272,\n",
              " 0.9111508473939272,\n",
              " 0.9111508473939272,\n",
              " 0.9111508473939272,\n",
              " 0.9111508473939272,\n",
              " 0.9111508473939272,\n",
              " 0.9111508473939272,\n",
              " 0.9111508473939272,\n",
              " 0.9111508473939272,\n",
              " 0.9111508473939272,\n",
              " 0.9111508473939272,\n",
              " 0.9111508473939272,\n",
              " 0.9111508473939272,\n",
              " 0.9111508473939272,\n",
              " 0.9111508473939272,\n",
              " 0.9111508473939272,\n",
              " 0.9111508473939272,\n",
              " 0.9111508473939272,\n",
              " 0.9111508473939272,\n",
              " 0.9111508473939272,\n",
              " 0.9111508473939272,\n",
              " 0.9111508473939272,\n",
              " 0.9111508473939272,\n",
              " 0.9111508473939272,\n",
              " 0.9111508473939272,\n",
              " 0.9111508473939272,\n",
              " 0.9111508473939272,\n",
              " 0.9111508473939272,\n",
              " 0.9111508473939272,\n",
              " 0.9111508473939272,\n",
              " 0.9111508473939272,\n",
              " 0.9111508473939272,\n",
              " 0.9111508473939272,\n",
              " 0.9111508473939272,\n",
              " 0.9111508473939272,\n",
              " 0.9111508473939272,\n",
              " 0.9111508473939272,\n",
              " 0.9111508473939272,\n",
              " 0.9111508473939272,\n",
              " 0.9111508473939272,\n",
              " 0.9111508473939272,\n",
              " 0.9111508473939272,\n",
              " 0.9111508473939272,\n",
              " 0.9111508473939272,\n",
              " 0.9111508473939272,\n",
              " 0.9111508473939272,\n",
              " 0.9111508473939272,\n",
              " 0.9111508473939272,\n",
              " 0.9111508473939272,\n",
              " 0.9111508473939272,\n",
              " 0.9111508473939272,\n",
              " 0.9111508473939272,\n",
              " 0.9111508473939272,\n",
              " 0.9111508473939272,\n",
              " 0.9111508473939272,\n",
              " 0.9111508473939272,\n",
              " 0.9111508473939272,\n",
              " 0.9111508473939272,\n",
              " 0.9111508473939272,\n",
              " 0.9111508473939272,\n",
              " 0.9111508473939272,\n",
              " 0.9111508473939272,\n",
              " 0.9111508473939272,\n",
              " 0.9111508473939272,\n",
              " 0.9111508473939272,\n",
              " 0.9111508473939272,\n",
              " 0.9111508473939272,\n",
              " 0.9111508473939272,\n",
              " 0.9111508473939272]"
            ]
          },
          "execution_count": 18,
          "metadata": {},
          "output_type": "execute_result"
        }
      ],
      "source": [
        "objective_func"
      ]
    }
  ],
  "metadata": {
    "colab": {
      "name": "KDM project.ipynb",
      "provenance": []
    },
    "interpreter": {
      "hash": "047c3aed27b3fee4a7a7d2a03551dfce4bb940f492d78b1a9d6022a768015aba"
    },
    "kernelspec": {
      "display_name": "Python 3.9.7",
      "language": "python",
      "name": "python3"
    },
    "language_info": {
      "codemirror_mode": {
        "name": "ipython",
        "version": 3
      },
      "file_extension": ".py",
      "mimetype": "text/x-python",
      "name": "python",
      "nbconvert_exporter": "python",
      "pygments_lexer": "ipython3",
      "version": "3.9.7"
    }
  },
  "nbformat": 4,
  "nbformat_minor": 0
}
